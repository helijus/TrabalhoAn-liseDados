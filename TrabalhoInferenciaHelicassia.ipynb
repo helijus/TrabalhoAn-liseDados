{
  "nbformat": 4,
  "nbformat_minor": 0,
  "metadata": {
    "colab": {
      "provenance": [],
      "authorship_tag": "ABX9TyMyIPEAmXCPzvooKkW4vYH7",
      "include_colab_link": true
    },
    "kernelspec": {
      "name": "python3",
      "display_name": "Python 3"
    },
    "language_info": {
      "name": "python"
    }
  },
  "cells": [
    {
      "cell_type": "markdown",
      "metadata": {
        "id": "view-in-github",
        "colab_type": "text"
      },
      "source": [
        "<a href=\"https://colab.research.google.com/github/helijus/TrabalhoAnaliseDados/blob/main/TrabalhoInferenciaHelicassia.ipynb\" target=\"_parent\"><img src=\"https://colab.research.google.com/assets/colab-badge.svg\" alt=\"Open In Colab\"/></a>"
      ]
    },
    {
      "cell_type": "code",
      "execution_count": null,
      "metadata": {
        "id": "B-4LCtkWenyK"
      },
      "outputs": [],
      "source": [
        "import pandas as pd #manipulação de dados em formato de dataframe\n",
        "import numpy as np #biblioteca para operações matemáticas multidimensionais\n",
        "import seaborn as sns #biblioteca de visualização de informações estatísticas\n",
        "import matplotlib.pyplot as plt #biblioteca de visualização de dados\n",
        "from scipy import stats\n",
        "from google.colab import drive"
      ]
    },
    {
      "cell_type": "code",
      "source": [
        "drive.mount('/content/drive')\n",
        "\n",
        "# Caminho do diretório escolhido\n",
        "path = \"/content/drive/MyDrive/Aulas Anisio\""
      ],
      "metadata": {
        "colab": {
          "base_uri": "https://localhost:8080/"
        },
        "id": "WsKUrHGRe34p",
        "outputId": "cc0cf5e0-cdce-4002-f03b-5ece2c84ebe4"
      },
      "execution_count": null,
      "outputs": [
        {
          "output_type": "stream",
          "name": "stdout",
          "text": [
            "Mounted at /content/drive\n"
          ]
        }
      ]
    },
    {
      "cell_type": "code",
      "source": [
        "# Leitura do arquivo\n",
        "df_militares = pd.read_csv(path + '/age_dataset.csv', sep=',')\n",
        "\n",
        "df_militares = df_militares.dropna()"
      ],
      "metadata": {
        "id": "yidoYMGXf-UC"
      },
      "execution_count": null,
      "outputs": []
    },
    {
      "cell_type": "markdown",
      "source": [
        "## 1. Escolha das Váriáveis e Motivo:\n",
        "\n",
        "  **Profissão:** Militar\n",
        "\n",
        "  **Genêro:** Feminino (mais foco) e Masculino\n",
        "\n",
        "  **Idade de Morte:** Idade em que faleceram\n",
        "\n",
        "  **Motivo**: Analisar se mulheres que possuem cargos militares tem vida mais longa que homens que pertencem a cargos militares.\n",
        "\n"
      ],
      "metadata": {
        "id": "7p-5hK3vfELA"
      }
    },
    {
      "cell_type": "markdown",
      "source": [],
      "metadata": {
        "id": "_WgtKBpbW_kP"
      }
    },
    {
      "cell_type": "markdown",
      "source": [
        "###1.1 Legendando os cargos que podem ser considerados do meio militar:"
      ],
      "metadata": {
        "id": "AuPm0lIxfHy6"
      }
    },
    {
      "cell_type": "markdown",
      "source": [
        "## Profissões do Meio Militar\n",
        "\n",
        "| Profissão em Português                               | Correspondente em Inglês                              |\n",
        "|-----------------------------------------------------|-------------------------------------------------------|\n",
        "| Militar                                             | Military personnel                                                |\n",
        "| Combatente | Resistance fighter             |\n",
        "| Oficial                                         | Official                                                |\n",
        "|\n",
        "Combatente da resistência francesa                             | French resistance fighter |\n",
        "| Combatente da Força Aérea                     | Air force officer                              |\n",
        "\n"
      ],
      "metadata": {
        "id": "wJ865g59fYTP"
      }
    },
    {
      "cell_type": "code",
      "source": [
        "#Filtrando profissões militares\n",
        "militar_professions = [\n",
        "    \"Military personnel\",\n",
        "    \"Resistance fighter\",\n",
        "    \"Official\",\n",
        "    \"Air force officer\",\n",
        "    \"French resistance fighter\"\n",
        "]"
      ],
      "metadata": {
        "id": "mnUbGBx0fq0t"
      },
      "execution_count": null,
      "outputs": []
    },
    {
      "cell_type": "code",
      "source": [
        "#Listando somente os militares e seus dados\n",
        "militar = df_militares[df_militares['Occupation'].isin(militar_professions)]\n",
        "\n",
        "militar.head(30)"
      ],
      "metadata": {
        "colab": {
          "base_uri": "https://localhost:8080/",
          "height": 1000
        },
        "id": "QrqmXsjsf0in",
        "outputId": "e03a3dec-ebf2-425e-a86a-f27ac6be13ce"
      },
      "execution_count": null,
      "outputs": [
        {
          "output_type": "execute_result",
          "data": {
            "text/plain": [
              "          Id                                Name  \\\n",
              "238    Q2998                         Amy Johnson   \n",
              "285    Q4012                Paul von Rennenkampf   \n",
              "519    Q7226                         Joan of Arc   \n",
              "578    Q7357                  Emperor Hui of Jin   \n",
              "594    Q7404                 Emperor Gong of Jin   \n",
              "906   Q11697                       Andreas Hofer   \n",
              "1074  Q14060                        Erwin Rommel   \n",
              "1177  Q15866                        Curtis LeMay   \n",
              "1301  Q18410                       Maryse Bastié   \n",
              "1435  Q21209  Claus Schenk Graf von Stauffenberg   \n",
              "1591  Q24736                 Giorgi Mazniashvili   \n",
              "1718  Q26558                        William Kidd   \n",
              "1852  Q28939                     Hans Jeschonnek   \n",
              "2015  Q31755                  Leo III the Syrian   \n",
              "2082  Q32765                    Aleksei Chirikov   \n",
              "2224  Q35892                       Petar Drapšin   \n",
              "2551  Q41625                Nikephoros II Phokas   \n",
              "2811  Q44496                    Andrei Chikatilo   \n",
              "3105  Q46647                       Nikolai Essen   \n",
              "3978  Q57135                  Erich von Manstein   \n",
              "3982  Q57140             Walther von Brauchitsch   \n",
              "3983  Q57141                   Günther von Kluge   \n",
              "3984  Q57144               Walther von Reichenau   \n",
              "3993  Q57156                 Erwin von Witzleben   \n",
              "3994  Q57157                       Hanna Reitsch   \n",
              "3997  Q57160                    Friedrich Paulus   \n",
              "3999  Q57162                     Otto Lilienthal   \n",
              "4008  Q57173                    Mikhail Skobelev   \n",
              "4012  Q57177     Wolfram Freiherr von Richthofen   \n",
              "4032  Q57199                      Joachim Peiper   \n",
              "\n",
              "                                      Short description  Gender  \\\n",
              "238                          pioneering English aviator  Female   \n",
              "285                                     Russian general    Male   \n",
              "519        French folk heroine and Roman Catholic saint  Female   \n",
              "578            2nd emperor of the Jin Dynasty (265–420)    Male   \n",
              "594                emperor of the Jin Dynasty (265–420)    Male   \n",
              "906                      Tirolean innkeeper and patriot    Male   \n",
              "1074               German field marshal of World War II    Male   \n",
              "1177                    American general and politician    Male   \n",
              "1301                                     French aviator  Female   \n",
              "1435                 German army officer and aristocrat    Male   \n",
              "1591                                   Georgian general    Male   \n",
              "1718  Scottish sailor who was tried and executed for...    Male   \n",
              "1852                               German Generaloberst    Male   \n",
              "2015                        emperor of Byzantine Empire    Male   \n",
              "2082                                   Russian explorer    Male   \n",
              "2224                        yugoslav Partisan commander    Male   \n",
              "2551                                  Byzantine emperor    Male   \n",
              "2811                               Soviet serial killer    Male   \n",
              "3105                                    Russian admiral    Male   \n",
              "3978                                     German general    Male   \n",
              "3982                               German field marshal    Male   \n",
              "3983                                     German general    Male   \n",
              "3984                                     German general    Male   \n",
              "3993                      Field Marshal of Nazi Germany    Male   \n",
              "3994                                     German aviator  Female   \n",
              "3997                                     German general    Male   \n",
              "3999                            German aviation pioneer    Male   \n",
              "4008                      General of the Russian Empire    Male   \n",
              "4012                German military officer and aviator    Male   \n",
              "4032  SS officer and Nazi war criminal, who killed b...    Male   \n",
              "\n",
              "                                                Country          Occupation  \\\n",
              "238   United Kingdom; United Kingdom of Great Britai...  Military personnel   \n",
              "285                                      Russian Empire  Military personnel   \n",
              "519                                              France  Military personnel   \n",
              "578                                 Western Jin dynasty            Official   \n",
              "594                                               China  Military personnel   \n",
              "906                                             Austria  Military personnel   \n",
              "1074       Nazi Germany; Weimar Republic; German Empire  Military personnel   \n",
              "1177                           United States of America   Air force officer   \n",
              "1301                                             France  Military personnel   \n",
              "1435                                            Germany  Military personnel   \n",
              "1591                                       Soviet Union  Military personnel   \n",
              "1718        United Kingdom of Great Britain and Ireland  Military personnel   \n",
              "1852                                            Germany  Military personnel   \n",
              "2015                                   Byzantine Empire  Military personnel   \n",
              "2082                                     Russian Empire  Military personnel   \n",
              "2224                                         Yugoslavia  Military personnel   \n",
              "2551                                   Byzantine Empire  Military personnel   \n",
              "2811                               Russia; Soviet Union  Military personnel   \n",
              "3105                                     Russian Empire  Military personnel   \n",
              "3978                                            Germany  Military personnel   \n",
              "3982                                            Germany  Military personnel   \n",
              "3983                                            Germany  Military personnel   \n",
              "3984                                            Germany  Military personnel   \n",
              "3993                                            Germany  Military personnel   \n",
              "3994                                   Austria; Germany  Military personnel   \n",
              "3997  Nazi Germany; German Democratic Republic; Weim...  Military personnel   \n",
              "3999                                            Germany  Military personnel   \n",
              "4008                                     Russian Empire  Military personnel   \n",
              "4012                                            Germany  Military personnel   \n",
              "4032                                            Germany  Military personnel   \n",
              "\n",
              "      Birth year  Death year                      Manner of death  \\\n",
              "238         1903      1941.0                             accident   \n",
              "285         1854      1918.0                      unnatural death   \n",
              "519         1412      1431.0                   capital punishment   \n",
              "578          259       307.0                             homicide   \n",
              "594          386       421.0                             homicide   \n",
              "906         1767      1810.0                   capital punishment   \n",
              "1074        1891      1944.0                              suicide   \n",
              "1177        1906      1990.0                       natural causes   \n",
              "1301        1898      1952.0                             accident   \n",
              "1435        1907      1944.0                   capital punishment   \n",
              "1591        1872      1937.0  capital punishment; unnatural death   \n",
              "1718        1645      1701.0                   capital punishment   \n",
              "1852        1899      1943.0                              suicide   \n",
              "2015         675       741.0                       natural causes   \n",
              "2082        1703      1748.0                       natural causes   \n",
              "2224        1914      1945.0                             accident   \n",
              "2551         912       969.0                             homicide   \n",
              "2811        1936      1994.0                   capital punishment   \n",
              "3105        1860      1915.0                       natural causes   \n",
              "3978        1887      1973.0                       natural causes   \n",
              "3982        1881      1948.0                       natural causes   \n",
              "3983        1882      1944.0                              suicide   \n",
              "3984        1884      1942.0                       natural causes   \n",
              "3993        1881      1944.0                   capital punishment   \n",
              "3994        1912      1979.0                       natural causes   \n",
              "3997        1890      1957.0                       natural causes   \n",
              "3999        1848      1896.0                             accident   \n",
              "4008        1843      1882.0                       natural causes   \n",
              "4012        1895      1945.0                       natural causes   \n",
              "4032        1915      1976.0                             homicide   \n",
              "\n",
              "      Age of death  \n",
              "238           38.0  \n",
              "285           64.0  \n",
              "519           19.0  \n",
              "578           48.0  \n",
              "594           35.0  \n",
              "906           43.0  \n",
              "1074          53.0  \n",
              "1177          84.0  \n",
              "1301          54.0  \n",
              "1435          37.0  \n",
              "1591          65.0  \n",
              "1718          56.0  \n",
              "1852          44.0  \n",
              "2015          66.0  \n",
              "2082          45.0  \n",
              "2224          31.0  \n",
              "2551          57.0  \n",
              "2811          58.0  \n",
              "3105          55.0  \n",
              "3978          86.0  \n",
              "3982          67.0  \n",
              "3983          62.0  \n",
              "3984          58.0  \n",
              "3993          63.0  \n",
              "3994          67.0  \n",
              "3997          67.0  \n",
              "3999          48.0  \n",
              "4008          39.0  \n",
              "4012          50.0  \n",
              "4032          61.0  "
            ],
            "text/html": [
              "\n",
              "  <div id=\"df-73b852a1-f47b-4daa-880d-34d0032be01c\" class=\"colab-df-container\">\n",
              "    <div>\n",
              "<style scoped>\n",
              "    .dataframe tbody tr th:only-of-type {\n",
              "        vertical-align: middle;\n",
              "    }\n",
              "\n",
              "    .dataframe tbody tr th {\n",
              "        vertical-align: top;\n",
              "    }\n",
              "\n",
              "    .dataframe thead th {\n",
              "        text-align: right;\n",
              "    }\n",
              "</style>\n",
              "<table border=\"1\" class=\"dataframe\">\n",
              "  <thead>\n",
              "    <tr style=\"text-align: right;\">\n",
              "      <th></th>\n",
              "      <th>Id</th>\n",
              "      <th>Name</th>\n",
              "      <th>Short description</th>\n",
              "      <th>Gender</th>\n",
              "      <th>Country</th>\n",
              "      <th>Occupation</th>\n",
              "      <th>Birth year</th>\n",
              "      <th>Death year</th>\n",
              "      <th>Manner of death</th>\n",
              "      <th>Age of death</th>\n",
              "    </tr>\n",
              "  </thead>\n",
              "  <tbody>\n",
              "    <tr>\n",
              "      <th>238</th>\n",
              "      <td>Q2998</td>\n",
              "      <td>Amy Johnson</td>\n",
              "      <td>pioneering English aviator</td>\n",
              "      <td>Female</td>\n",
              "      <td>United Kingdom; United Kingdom of Great Britai...</td>\n",
              "      <td>Military personnel</td>\n",
              "      <td>1903</td>\n",
              "      <td>1941.0</td>\n",
              "      <td>accident</td>\n",
              "      <td>38.0</td>\n",
              "    </tr>\n",
              "    <tr>\n",
              "      <th>285</th>\n",
              "      <td>Q4012</td>\n",
              "      <td>Paul von Rennenkampf</td>\n",
              "      <td>Russian general</td>\n",
              "      <td>Male</td>\n",
              "      <td>Russian Empire</td>\n",
              "      <td>Military personnel</td>\n",
              "      <td>1854</td>\n",
              "      <td>1918.0</td>\n",
              "      <td>unnatural death</td>\n",
              "      <td>64.0</td>\n",
              "    </tr>\n",
              "    <tr>\n",
              "      <th>519</th>\n",
              "      <td>Q7226</td>\n",
              "      <td>Joan of Arc</td>\n",
              "      <td>French folk heroine and Roman Catholic saint</td>\n",
              "      <td>Female</td>\n",
              "      <td>France</td>\n",
              "      <td>Military personnel</td>\n",
              "      <td>1412</td>\n",
              "      <td>1431.0</td>\n",
              "      <td>capital punishment</td>\n",
              "      <td>19.0</td>\n",
              "    </tr>\n",
              "    <tr>\n",
              "      <th>578</th>\n",
              "      <td>Q7357</td>\n",
              "      <td>Emperor Hui of Jin</td>\n",
              "      <td>2nd emperor of the Jin Dynasty (265–420)</td>\n",
              "      <td>Male</td>\n",
              "      <td>Western Jin dynasty</td>\n",
              "      <td>Official</td>\n",
              "      <td>259</td>\n",
              "      <td>307.0</td>\n",
              "      <td>homicide</td>\n",
              "      <td>48.0</td>\n",
              "    </tr>\n",
              "    <tr>\n",
              "      <th>594</th>\n",
              "      <td>Q7404</td>\n",
              "      <td>Emperor Gong of Jin</td>\n",
              "      <td>emperor of the Jin Dynasty (265–420)</td>\n",
              "      <td>Male</td>\n",
              "      <td>China</td>\n",
              "      <td>Military personnel</td>\n",
              "      <td>386</td>\n",
              "      <td>421.0</td>\n",
              "      <td>homicide</td>\n",
              "      <td>35.0</td>\n",
              "    </tr>\n",
              "    <tr>\n",
              "      <th>906</th>\n",
              "      <td>Q11697</td>\n",
              "      <td>Andreas Hofer</td>\n",
              "      <td>Tirolean innkeeper and patriot</td>\n",
              "      <td>Male</td>\n",
              "      <td>Austria</td>\n",
              "      <td>Military personnel</td>\n",
              "      <td>1767</td>\n",
              "      <td>1810.0</td>\n",
              "      <td>capital punishment</td>\n",
              "      <td>43.0</td>\n",
              "    </tr>\n",
              "    <tr>\n",
              "      <th>1074</th>\n",
              "      <td>Q14060</td>\n",
              "      <td>Erwin Rommel</td>\n",
              "      <td>German field marshal of World War II</td>\n",
              "      <td>Male</td>\n",
              "      <td>Nazi Germany; Weimar Republic; German Empire</td>\n",
              "      <td>Military personnel</td>\n",
              "      <td>1891</td>\n",
              "      <td>1944.0</td>\n",
              "      <td>suicide</td>\n",
              "      <td>53.0</td>\n",
              "    </tr>\n",
              "    <tr>\n",
              "      <th>1177</th>\n",
              "      <td>Q15866</td>\n",
              "      <td>Curtis LeMay</td>\n",
              "      <td>American general and politician</td>\n",
              "      <td>Male</td>\n",
              "      <td>United States of America</td>\n",
              "      <td>Air force officer</td>\n",
              "      <td>1906</td>\n",
              "      <td>1990.0</td>\n",
              "      <td>natural causes</td>\n",
              "      <td>84.0</td>\n",
              "    </tr>\n",
              "    <tr>\n",
              "      <th>1301</th>\n",
              "      <td>Q18410</td>\n",
              "      <td>Maryse Bastié</td>\n",
              "      <td>French aviator</td>\n",
              "      <td>Female</td>\n",
              "      <td>France</td>\n",
              "      <td>Military personnel</td>\n",
              "      <td>1898</td>\n",
              "      <td>1952.0</td>\n",
              "      <td>accident</td>\n",
              "      <td>54.0</td>\n",
              "    </tr>\n",
              "    <tr>\n",
              "      <th>1435</th>\n",
              "      <td>Q21209</td>\n",
              "      <td>Claus Schenk Graf von Stauffenberg</td>\n",
              "      <td>German army officer and aristocrat</td>\n",
              "      <td>Male</td>\n",
              "      <td>Germany</td>\n",
              "      <td>Military personnel</td>\n",
              "      <td>1907</td>\n",
              "      <td>1944.0</td>\n",
              "      <td>capital punishment</td>\n",
              "      <td>37.0</td>\n",
              "    </tr>\n",
              "    <tr>\n",
              "      <th>1591</th>\n",
              "      <td>Q24736</td>\n",
              "      <td>Giorgi Mazniashvili</td>\n",
              "      <td>Georgian general</td>\n",
              "      <td>Male</td>\n",
              "      <td>Soviet Union</td>\n",
              "      <td>Military personnel</td>\n",
              "      <td>1872</td>\n",
              "      <td>1937.0</td>\n",
              "      <td>capital punishment; unnatural death</td>\n",
              "      <td>65.0</td>\n",
              "    </tr>\n",
              "    <tr>\n",
              "      <th>1718</th>\n",
              "      <td>Q26558</td>\n",
              "      <td>William Kidd</td>\n",
              "      <td>Scottish sailor who was tried and executed for...</td>\n",
              "      <td>Male</td>\n",
              "      <td>United Kingdom of Great Britain and Ireland</td>\n",
              "      <td>Military personnel</td>\n",
              "      <td>1645</td>\n",
              "      <td>1701.0</td>\n",
              "      <td>capital punishment</td>\n",
              "      <td>56.0</td>\n",
              "    </tr>\n",
              "    <tr>\n",
              "      <th>1852</th>\n",
              "      <td>Q28939</td>\n",
              "      <td>Hans Jeschonnek</td>\n",
              "      <td>German Generaloberst</td>\n",
              "      <td>Male</td>\n",
              "      <td>Germany</td>\n",
              "      <td>Military personnel</td>\n",
              "      <td>1899</td>\n",
              "      <td>1943.0</td>\n",
              "      <td>suicide</td>\n",
              "      <td>44.0</td>\n",
              "    </tr>\n",
              "    <tr>\n",
              "      <th>2015</th>\n",
              "      <td>Q31755</td>\n",
              "      <td>Leo III the Syrian</td>\n",
              "      <td>emperor of Byzantine Empire</td>\n",
              "      <td>Male</td>\n",
              "      <td>Byzantine Empire</td>\n",
              "      <td>Military personnel</td>\n",
              "      <td>675</td>\n",
              "      <td>741.0</td>\n",
              "      <td>natural causes</td>\n",
              "      <td>66.0</td>\n",
              "    </tr>\n",
              "    <tr>\n",
              "      <th>2082</th>\n",
              "      <td>Q32765</td>\n",
              "      <td>Aleksei Chirikov</td>\n",
              "      <td>Russian explorer</td>\n",
              "      <td>Male</td>\n",
              "      <td>Russian Empire</td>\n",
              "      <td>Military personnel</td>\n",
              "      <td>1703</td>\n",
              "      <td>1748.0</td>\n",
              "      <td>natural causes</td>\n",
              "      <td>45.0</td>\n",
              "    </tr>\n",
              "    <tr>\n",
              "      <th>2224</th>\n",
              "      <td>Q35892</td>\n",
              "      <td>Petar Drapšin</td>\n",
              "      <td>yugoslav Partisan commander</td>\n",
              "      <td>Male</td>\n",
              "      <td>Yugoslavia</td>\n",
              "      <td>Military personnel</td>\n",
              "      <td>1914</td>\n",
              "      <td>1945.0</td>\n",
              "      <td>accident</td>\n",
              "      <td>31.0</td>\n",
              "    </tr>\n",
              "    <tr>\n",
              "      <th>2551</th>\n",
              "      <td>Q41625</td>\n",
              "      <td>Nikephoros II Phokas</td>\n",
              "      <td>Byzantine emperor</td>\n",
              "      <td>Male</td>\n",
              "      <td>Byzantine Empire</td>\n",
              "      <td>Military personnel</td>\n",
              "      <td>912</td>\n",
              "      <td>969.0</td>\n",
              "      <td>homicide</td>\n",
              "      <td>57.0</td>\n",
              "    </tr>\n",
              "    <tr>\n",
              "      <th>2811</th>\n",
              "      <td>Q44496</td>\n",
              "      <td>Andrei Chikatilo</td>\n",
              "      <td>Soviet serial killer</td>\n",
              "      <td>Male</td>\n",
              "      <td>Russia; Soviet Union</td>\n",
              "      <td>Military personnel</td>\n",
              "      <td>1936</td>\n",
              "      <td>1994.0</td>\n",
              "      <td>capital punishment</td>\n",
              "      <td>58.0</td>\n",
              "    </tr>\n",
              "    <tr>\n",
              "      <th>3105</th>\n",
              "      <td>Q46647</td>\n",
              "      <td>Nikolai Essen</td>\n",
              "      <td>Russian admiral</td>\n",
              "      <td>Male</td>\n",
              "      <td>Russian Empire</td>\n",
              "      <td>Military personnel</td>\n",
              "      <td>1860</td>\n",
              "      <td>1915.0</td>\n",
              "      <td>natural causes</td>\n",
              "      <td>55.0</td>\n",
              "    </tr>\n",
              "    <tr>\n",
              "      <th>3978</th>\n",
              "      <td>Q57135</td>\n",
              "      <td>Erich von Manstein</td>\n",
              "      <td>German general</td>\n",
              "      <td>Male</td>\n",
              "      <td>Germany</td>\n",
              "      <td>Military personnel</td>\n",
              "      <td>1887</td>\n",
              "      <td>1973.0</td>\n",
              "      <td>natural causes</td>\n",
              "      <td>86.0</td>\n",
              "    </tr>\n",
              "    <tr>\n",
              "      <th>3982</th>\n",
              "      <td>Q57140</td>\n",
              "      <td>Walther von Brauchitsch</td>\n",
              "      <td>German field marshal</td>\n",
              "      <td>Male</td>\n",
              "      <td>Germany</td>\n",
              "      <td>Military personnel</td>\n",
              "      <td>1881</td>\n",
              "      <td>1948.0</td>\n",
              "      <td>natural causes</td>\n",
              "      <td>67.0</td>\n",
              "    </tr>\n",
              "    <tr>\n",
              "      <th>3983</th>\n",
              "      <td>Q57141</td>\n",
              "      <td>Günther von Kluge</td>\n",
              "      <td>German general</td>\n",
              "      <td>Male</td>\n",
              "      <td>Germany</td>\n",
              "      <td>Military personnel</td>\n",
              "      <td>1882</td>\n",
              "      <td>1944.0</td>\n",
              "      <td>suicide</td>\n",
              "      <td>62.0</td>\n",
              "    </tr>\n",
              "    <tr>\n",
              "      <th>3984</th>\n",
              "      <td>Q57144</td>\n",
              "      <td>Walther von Reichenau</td>\n",
              "      <td>German general</td>\n",
              "      <td>Male</td>\n",
              "      <td>Germany</td>\n",
              "      <td>Military personnel</td>\n",
              "      <td>1884</td>\n",
              "      <td>1942.0</td>\n",
              "      <td>natural causes</td>\n",
              "      <td>58.0</td>\n",
              "    </tr>\n",
              "    <tr>\n",
              "      <th>3993</th>\n",
              "      <td>Q57156</td>\n",
              "      <td>Erwin von Witzleben</td>\n",
              "      <td>Field Marshal of Nazi Germany</td>\n",
              "      <td>Male</td>\n",
              "      <td>Germany</td>\n",
              "      <td>Military personnel</td>\n",
              "      <td>1881</td>\n",
              "      <td>1944.0</td>\n",
              "      <td>capital punishment</td>\n",
              "      <td>63.0</td>\n",
              "    </tr>\n",
              "    <tr>\n",
              "      <th>3994</th>\n",
              "      <td>Q57157</td>\n",
              "      <td>Hanna Reitsch</td>\n",
              "      <td>German aviator</td>\n",
              "      <td>Female</td>\n",
              "      <td>Austria; Germany</td>\n",
              "      <td>Military personnel</td>\n",
              "      <td>1912</td>\n",
              "      <td>1979.0</td>\n",
              "      <td>natural causes</td>\n",
              "      <td>67.0</td>\n",
              "    </tr>\n",
              "    <tr>\n",
              "      <th>3997</th>\n",
              "      <td>Q57160</td>\n",
              "      <td>Friedrich Paulus</td>\n",
              "      <td>German general</td>\n",
              "      <td>Male</td>\n",
              "      <td>Nazi Germany; German Democratic Republic; Weim...</td>\n",
              "      <td>Military personnel</td>\n",
              "      <td>1890</td>\n",
              "      <td>1957.0</td>\n",
              "      <td>natural causes</td>\n",
              "      <td>67.0</td>\n",
              "    </tr>\n",
              "    <tr>\n",
              "      <th>3999</th>\n",
              "      <td>Q57162</td>\n",
              "      <td>Otto Lilienthal</td>\n",
              "      <td>German aviation pioneer</td>\n",
              "      <td>Male</td>\n",
              "      <td>Germany</td>\n",
              "      <td>Military personnel</td>\n",
              "      <td>1848</td>\n",
              "      <td>1896.0</td>\n",
              "      <td>accident</td>\n",
              "      <td>48.0</td>\n",
              "    </tr>\n",
              "    <tr>\n",
              "      <th>4008</th>\n",
              "      <td>Q57173</td>\n",
              "      <td>Mikhail Skobelev</td>\n",
              "      <td>General of the Russian Empire</td>\n",
              "      <td>Male</td>\n",
              "      <td>Russian Empire</td>\n",
              "      <td>Military personnel</td>\n",
              "      <td>1843</td>\n",
              "      <td>1882.0</td>\n",
              "      <td>natural causes</td>\n",
              "      <td>39.0</td>\n",
              "    </tr>\n",
              "    <tr>\n",
              "      <th>4012</th>\n",
              "      <td>Q57177</td>\n",
              "      <td>Wolfram Freiherr von Richthofen</td>\n",
              "      <td>German military officer and aviator</td>\n",
              "      <td>Male</td>\n",
              "      <td>Germany</td>\n",
              "      <td>Military personnel</td>\n",
              "      <td>1895</td>\n",
              "      <td>1945.0</td>\n",
              "      <td>natural causes</td>\n",
              "      <td>50.0</td>\n",
              "    </tr>\n",
              "    <tr>\n",
              "      <th>4032</th>\n",
              "      <td>Q57199</td>\n",
              "      <td>Joachim Peiper</td>\n",
              "      <td>SS officer and Nazi war criminal, who killed b...</td>\n",
              "      <td>Male</td>\n",
              "      <td>Germany</td>\n",
              "      <td>Military personnel</td>\n",
              "      <td>1915</td>\n",
              "      <td>1976.0</td>\n",
              "      <td>homicide</td>\n",
              "      <td>61.0</td>\n",
              "    </tr>\n",
              "  </tbody>\n",
              "</table>\n",
              "</div>\n",
              "    <div class=\"colab-df-buttons\">\n",
              "\n",
              "  <div class=\"colab-df-container\">\n",
              "    <button class=\"colab-df-convert\" onclick=\"convertToInteractive('df-73b852a1-f47b-4daa-880d-34d0032be01c')\"\n",
              "            title=\"Convert this dataframe to an interactive table.\"\n",
              "            style=\"display:none;\">\n",
              "\n",
              "  <svg xmlns=\"http://www.w3.org/2000/svg\" height=\"24px\" viewBox=\"0 -960 960 960\">\n",
              "    <path d=\"M120-120v-720h720v720H120Zm60-500h600v-160H180v160Zm220 220h160v-160H400v160Zm0 220h160v-160H400v160ZM180-400h160v-160H180v160Zm440 0h160v-160H620v160ZM180-180h160v-160H180v160Zm440 0h160v-160H620v160Z\"/>\n",
              "  </svg>\n",
              "    </button>\n",
              "\n",
              "  <style>\n",
              "    .colab-df-container {\n",
              "      display:flex;\n",
              "      gap: 12px;\n",
              "    }\n",
              "\n",
              "    .colab-df-convert {\n",
              "      background-color: #E8F0FE;\n",
              "      border: none;\n",
              "      border-radius: 50%;\n",
              "      cursor: pointer;\n",
              "      display: none;\n",
              "      fill: #1967D2;\n",
              "      height: 32px;\n",
              "      padding: 0 0 0 0;\n",
              "      width: 32px;\n",
              "    }\n",
              "\n",
              "    .colab-df-convert:hover {\n",
              "      background-color: #E2EBFA;\n",
              "      box-shadow: 0px 1px 2px rgba(60, 64, 67, 0.3), 0px 1px 3px 1px rgba(60, 64, 67, 0.15);\n",
              "      fill: #174EA6;\n",
              "    }\n",
              "\n",
              "    .colab-df-buttons div {\n",
              "      margin-bottom: 4px;\n",
              "    }\n",
              "\n",
              "    [theme=dark] .colab-df-convert {\n",
              "      background-color: #3B4455;\n",
              "      fill: #D2E3FC;\n",
              "    }\n",
              "\n",
              "    [theme=dark] .colab-df-convert:hover {\n",
              "      background-color: #434B5C;\n",
              "      box-shadow: 0px 1px 3px 1px rgba(0, 0, 0, 0.15);\n",
              "      filter: drop-shadow(0px 1px 2px rgba(0, 0, 0, 0.3));\n",
              "      fill: #FFFFFF;\n",
              "    }\n",
              "  </style>\n",
              "\n",
              "    <script>\n",
              "      const buttonEl =\n",
              "        document.querySelector('#df-73b852a1-f47b-4daa-880d-34d0032be01c button.colab-df-convert');\n",
              "      buttonEl.style.display =\n",
              "        google.colab.kernel.accessAllowed ? 'block' : 'none';\n",
              "\n",
              "      async function convertToInteractive(key) {\n",
              "        const element = document.querySelector('#df-73b852a1-f47b-4daa-880d-34d0032be01c');\n",
              "        const dataTable =\n",
              "          await google.colab.kernel.invokeFunction('convertToInteractive',\n",
              "                                                    [key], {});\n",
              "        if (!dataTable) return;\n",
              "\n",
              "        const docLinkHtml = 'Like what you see? Visit the ' +\n",
              "          '<a target=\"_blank\" href=https://colab.research.google.com/notebooks/data_table.ipynb>data table notebook</a>'\n",
              "          + ' to learn more about interactive tables.';\n",
              "        element.innerHTML = '';\n",
              "        dataTable['output_type'] = 'display_data';\n",
              "        await google.colab.output.renderOutput(dataTable, element);\n",
              "        const docLink = document.createElement('div');\n",
              "        docLink.innerHTML = docLinkHtml;\n",
              "        element.appendChild(docLink);\n",
              "      }\n",
              "    </script>\n",
              "  </div>\n",
              "\n",
              "\n",
              "<div id=\"df-2f6e0b64-d86e-40b1-8660-161c506813d2\">\n",
              "  <button class=\"colab-df-quickchart\" onclick=\"quickchart('df-2f6e0b64-d86e-40b1-8660-161c506813d2')\"\n",
              "            title=\"Suggest charts\"\n",
              "            style=\"display:none;\">\n",
              "\n",
              "<svg xmlns=\"http://www.w3.org/2000/svg\" height=\"24px\"viewBox=\"0 0 24 24\"\n",
              "     width=\"24px\">\n",
              "    <g>\n",
              "        <path d=\"M19 3H5c-1.1 0-2 .9-2 2v14c0 1.1.9 2 2 2h14c1.1 0 2-.9 2-2V5c0-1.1-.9-2-2-2zM9 17H7v-7h2v7zm4 0h-2V7h2v10zm4 0h-2v-4h2v4z\"/>\n",
              "    </g>\n",
              "</svg>\n",
              "  </button>\n",
              "\n",
              "<style>\n",
              "  .colab-df-quickchart {\n",
              "      --bg-color: #E8F0FE;\n",
              "      --fill-color: #1967D2;\n",
              "      --hover-bg-color: #E2EBFA;\n",
              "      --hover-fill-color: #174EA6;\n",
              "      --disabled-fill-color: #AAA;\n",
              "      --disabled-bg-color: #DDD;\n",
              "  }\n",
              "\n",
              "  [theme=dark] .colab-df-quickchart {\n",
              "      --bg-color: #3B4455;\n",
              "      --fill-color: #D2E3FC;\n",
              "      --hover-bg-color: #434B5C;\n",
              "      --hover-fill-color: #FFFFFF;\n",
              "      --disabled-bg-color: #3B4455;\n",
              "      --disabled-fill-color: #666;\n",
              "  }\n",
              "\n",
              "  .colab-df-quickchart {\n",
              "    background-color: var(--bg-color);\n",
              "    border: none;\n",
              "    border-radius: 50%;\n",
              "    cursor: pointer;\n",
              "    display: none;\n",
              "    fill: var(--fill-color);\n",
              "    height: 32px;\n",
              "    padding: 0;\n",
              "    width: 32px;\n",
              "  }\n",
              "\n",
              "  .colab-df-quickchart:hover {\n",
              "    background-color: var(--hover-bg-color);\n",
              "    box-shadow: 0 1px 2px rgba(60, 64, 67, 0.3), 0 1px 3px 1px rgba(60, 64, 67, 0.15);\n",
              "    fill: var(--button-hover-fill-color);\n",
              "  }\n",
              "\n",
              "  .colab-df-quickchart-complete:disabled,\n",
              "  .colab-df-quickchart-complete:disabled:hover {\n",
              "    background-color: var(--disabled-bg-color);\n",
              "    fill: var(--disabled-fill-color);\n",
              "    box-shadow: none;\n",
              "  }\n",
              "\n",
              "  .colab-df-spinner {\n",
              "    border: 2px solid var(--fill-color);\n",
              "    border-color: transparent;\n",
              "    border-bottom-color: var(--fill-color);\n",
              "    animation:\n",
              "      spin 1s steps(1) infinite;\n",
              "  }\n",
              "\n",
              "  @keyframes spin {\n",
              "    0% {\n",
              "      border-color: transparent;\n",
              "      border-bottom-color: var(--fill-color);\n",
              "      border-left-color: var(--fill-color);\n",
              "    }\n",
              "    20% {\n",
              "      border-color: transparent;\n",
              "      border-left-color: var(--fill-color);\n",
              "      border-top-color: var(--fill-color);\n",
              "    }\n",
              "    30% {\n",
              "      border-color: transparent;\n",
              "      border-left-color: var(--fill-color);\n",
              "      border-top-color: var(--fill-color);\n",
              "      border-right-color: var(--fill-color);\n",
              "    }\n",
              "    40% {\n",
              "      border-color: transparent;\n",
              "      border-right-color: var(--fill-color);\n",
              "      border-top-color: var(--fill-color);\n",
              "    }\n",
              "    60% {\n",
              "      border-color: transparent;\n",
              "      border-right-color: var(--fill-color);\n",
              "    }\n",
              "    80% {\n",
              "      border-color: transparent;\n",
              "      border-right-color: var(--fill-color);\n",
              "      border-bottom-color: var(--fill-color);\n",
              "    }\n",
              "    90% {\n",
              "      border-color: transparent;\n",
              "      border-bottom-color: var(--fill-color);\n",
              "    }\n",
              "  }\n",
              "</style>\n",
              "\n",
              "  <script>\n",
              "    async function quickchart(key) {\n",
              "      const quickchartButtonEl =\n",
              "        document.querySelector('#' + key + ' button');\n",
              "      quickchartButtonEl.disabled = true;  // To prevent multiple clicks.\n",
              "      quickchartButtonEl.classList.add('colab-df-spinner');\n",
              "      try {\n",
              "        const charts = await google.colab.kernel.invokeFunction(\n",
              "            'suggestCharts', [key], {});\n",
              "      } catch (error) {\n",
              "        console.error('Error during call to suggestCharts:', error);\n",
              "      }\n",
              "      quickchartButtonEl.classList.remove('colab-df-spinner');\n",
              "      quickchartButtonEl.classList.add('colab-df-quickchart-complete');\n",
              "    }\n",
              "    (() => {\n",
              "      let quickchartButtonEl =\n",
              "        document.querySelector('#df-2f6e0b64-d86e-40b1-8660-161c506813d2 button');\n",
              "      quickchartButtonEl.style.display =\n",
              "        google.colab.kernel.accessAllowed ? 'block' : 'none';\n",
              "    })();\n",
              "  </script>\n",
              "</div>\n",
              "\n",
              "    </div>\n",
              "  </div>\n"
            ],
            "application/vnd.google.colaboratory.intrinsic+json": {
              "type": "dataframe",
              "variable_name": "militar",
              "summary": "{\n  \"name\": \"militar\",\n  \"rows\": 2145,\n  \"fields\": [\n    {\n      \"column\": \"Id\",\n      \"properties\": {\n        \"dtype\": \"string\",\n        \"num_unique_values\": 2145,\n        \"samples\": [\n          \"Q4820778\",\n          \"Q11812030\",\n          \"Q73243\"\n        ],\n        \"semantic_type\": \"\",\n        \"description\": \"\"\n      }\n    },\n    {\n      \"column\": \"Name\",\n      \"properties\": {\n        \"dtype\": \"string\",\n        \"num_unique_values\": 2143,\n        \"samples\": [\n          \"George Brinton McClellan\",\n          \"Denis Joseph Demauroy\",\n          \"Ferenc Feketehalmy-Czeydner\"\n        ],\n        \"semantic_type\": \"\",\n        \"description\": \"\"\n      }\n    },\n    {\n      \"column\": \"Short description\",\n      \"properties\": {\n        \"dtype\": \"string\",\n        \"num_unique_values\": 1338,\n        \"samples\": [\n          \"Frans piloot (1897-1936)\",\n          \"Chief of Army Staff, Pakistan, 1991\\u20131993\",\n          \"British air racer, soldier and RAF officer\"\n        ],\n        \"semantic_type\": \"\",\n        \"description\": \"\"\n      }\n    },\n    {\n      \"column\": \"Gender\",\n      \"properties\": {\n        \"dtype\": \"category\",\n        \"num_unique_values\": 3,\n        \"samples\": [\n          \"Female\",\n          \"Male\",\n          \"Transgender Male\"\n        ],\n        \"semantic_type\": \"\",\n        \"description\": \"\"\n      }\n    },\n    {\n      \"column\": \"Country\",\n      \"properties\": {\n        \"dtype\": \"category\",\n        \"num_unique_values\": 236,\n        \"samples\": [\n          \"Poland\",\n          \"Kingdom of Great Britain; United Kingdom of Great Britain and Ireland\",\n          \"France; Republic of Geneva\"\n        ],\n        \"semantic_type\": \"\",\n        \"description\": \"\"\n      }\n    },\n    {\n      \"column\": \"Occupation\",\n      \"properties\": {\n        \"dtype\": \"category\",\n        \"num_unique_values\": 5,\n        \"samples\": [\n          \"Official\",\n          \"French resistance fighter\",\n          \"Air force officer\"\n        ],\n        \"semantic_type\": \"\",\n        \"description\": \"\"\n      }\n    },\n    {\n      \"column\": \"Birth year\",\n      \"properties\": {\n        \"dtype\": \"number\",\n        \"std\": 248,\n        \"min\": -400,\n        \"max\": 1996,\n        \"num_unique_values\": 379,\n        \"samples\": [\n          1785,\n          1586,\n          1957\n        ],\n        \"semantic_type\": \"\",\n        \"description\": \"\"\n      }\n    },\n    {\n      \"column\": \"Death year\",\n      \"properties\": {\n        \"dtype\": \"number\",\n        \"std\": 249.87596444049834,\n        \"min\": -336.0,\n        \"max\": 2019.0,\n        \"num_unique_values\": 353,\n        \"samples\": [\n          1907.0,\n          1773.0,\n          1358.0\n        ],\n        \"semantic_type\": \"\",\n        \"description\": \"\"\n      }\n    },\n    {\n      \"column\": \"Manner of death\",\n      \"properties\": {\n        \"dtype\": \"category\",\n        \"num_unique_values\": 25,\n        \"samples\": [\n          \"death in battle\",\n          \"suicide; Aerial ramming\",\n          \"accident\"\n        ],\n        \"semantic_type\": \"\",\n        \"description\": \"\"\n      }\n    },\n    {\n      \"column\": \"Age of death\",\n      \"properties\": {\n        \"dtype\": \"number\",\n        \"std\": 18.996498515976988,\n        \"min\": 13.0,\n        \"max\": 99.0,\n        \"num_unique_values\": 85,\n        \"samples\": [\n          91.0,\n          38.0,\n          20.0\n        ],\n        \"semantic_type\": \"\",\n        \"description\": \"\"\n      }\n    }\n  ]\n}"
            }
          },
          "metadata": {},
          "execution_count": 5
        }
      ]
    },
    {
      "cell_type": "markdown",
      "source": [
        "###1.2 Contagem total de cargos militares e contagem separada por genêro"
      ],
      "metadata": {
        "id": "K3tvQZuJiBv4"
      }
    },
    {
      "cell_type": "code",
      "source": [
        "#Realizando a contagem total de registros referentes à militares\n",
        "militar['Occupation'].value_counts()"
      ],
      "metadata": {
        "colab": {
          "base_uri": "https://localhost:8080/",
          "height": 272
        },
        "id": "A0zV_a-xhIyJ",
        "outputId": "c71247f5-33f4-4512-8129-5c0e967028a3"
      },
      "execution_count": null,
      "outputs": [
        {
          "output_type": "execute_result",
          "data": {
            "text/plain": [
              "Occupation\n",
              "Military personnel           2110\n",
              "Official                       19\n",
              "Resistance fighter             13\n",
              "Air force officer               2\n",
              "French resistance fighter       1\n",
              "Name: count, dtype: int64"
            ],
            "text/html": [
              "<div>\n",
              "<style scoped>\n",
              "    .dataframe tbody tr th:only-of-type {\n",
              "        vertical-align: middle;\n",
              "    }\n",
              "\n",
              "    .dataframe tbody tr th {\n",
              "        vertical-align: top;\n",
              "    }\n",
              "\n",
              "    .dataframe thead th {\n",
              "        text-align: right;\n",
              "    }\n",
              "</style>\n",
              "<table border=\"1\" class=\"dataframe\">\n",
              "  <thead>\n",
              "    <tr style=\"text-align: right;\">\n",
              "      <th></th>\n",
              "      <th>count</th>\n",
              "    </tr>\n",
              "    <tr>\n",
              "      <th>Occupation</th>\n",
              "      <th></th>\n",
              "    </tr>\n",
              "  </thead>\n",
              "  <tbody>\n",
              "    <tr>\n",
              "      <th>Military personnel</th>\n",
              "      <td>2110</td>\n",
              "    </tr>\n",
              "    <tr>\n",
              "      <th>Official</th>\n",
              "      <td>19</td>\n",
              "    </tr>\n",
              "    <tr>\n",
              "      <th>Resistance fighter</th>\n",
              "      <td>13</td>\n",
              "    </tr>\n",
              "    <tr>\n",
              "      <th>Air force officer</th>\n",
              "      <td>2</td>\n",
              "    </tr>\n",
              "    <tr>\n",
              "      <th>French resistance fighter</th>\n",
              "      <td>1</td>\n",
              "    </tr>\n",
              "  </tbody>\n",
              "</table>\n",
              "</div><br><label><b>dtype:</b> int64</label>"
            ]
          },
          "metadata": {},
          "execution_count": 6
        }
      ]
    },
    {
      "cell_type": "code",
      "source": [
        "#Realizando a contagem de militares separado por genero\n",
        "frequence_militar_gender = pd.crosstab(militar['Occupation'], militar['Gender'])\n",
        "\n",
        "frequence_militar_gender\n"
      ],
      "metadata": {
        "colab": {
          "base_uri": "https://localhost:8080/",
          "height": 237
        },
        "id": "esKIIcgzhr6A",
        "outputId": "f9b2903d-d0ab-43f2-c1de-87c7aa7a726f"
      },
      "execution_count": null,
      "outputs": [
        {
          "output_type": "execute_result",
          "data": {
            "text/plain": [
              "Gender                     Female  Male  Transgender Male\n",
              "Occupation                                               \n",
              "Air force officer               0     2                 0\n",
              "French resistance fighter       1     0                 0\n",
              "Military personnel             65  2044                 1\n",
              "Official                        0    19                 0\n",
              "Resistance fighter              5     8                 0"
            ],
            "text/html": [
              "\n",
              "  <div id=\"df-4d173177-f496-4473-aa5d-a4ebc36c5576\" class=\"colab-df-container\">\n",
              "    <div>\n",
              "<style scoped>\n",
              "    .dataframe tbody tr th:only-of-type {\n",
              "        vertical-align: middle;\n",
              "    }\n",
              "\n",
              "    .dataframe tbody tr th {\n",
              "        vertical-align: top;\n",
              "    }\n",
              "\n",
              "    .dataframe thead th {\n",
              "        text-align: right;\n",
              "    }\n",
              "</style>\n",
              "<table border=\"1\" class=\"dataframe\">\n",
              "  <thead>\n",
              "    <tr style=\"text-align: right;\">\n",
              "      <th>Gender</th>\n",
              "      <th>Female</th>\n",
              "      <th>Male</th>\n",
              "      <th>Transgender Male</th>\n",
              "    </tr>\n",
              "    <tr>\n",
              "      <th>Occupation</th>\n",
              "      <th></th>\n",
              "      <th></th>\n",
              "      <th></th>\n",
              "    </tr>\n",
              "  </thead>\n",
              "  <tbody>\n",
              "    <tr>\n",
              "      <th>Air force officer</th>\n",
              "      <td>0</td>\n",
              "      <td>2</td>\n",
              "      <td>0</td>\n",
              "    </tr>\n",
              "    <tr>\n",
              "      <th>French resistance fighter</th>\n",
              "      <td>1</td>\n",
              "      <td>0</td>\n",
              "      <td>0</td>\n",
              "    </tr>\n",
              "    <tr>\n",
              "      <th>Military personnel</th>\n",
              "      <td>65</td>\n",
              "      <td>2044</td>\n",
              "      <td>1</td>\n",
              "    </tr>\n",
              "    <tr>\n",
              "      <th>Official</th>\n",
              "      <td>0</td>\n",
              "      <td>19</td>\n",
              "      <td>0</td>\n",
              "    </tr>\n",
              "    <tr>\n",
              "      <th>Resistance fighter</th>\n",
              "      <td>5</td>\n",
              "      <td>8</td>\n",
              "      <td>0</td>\n",
              "    </tr>\n",
              "  </tbody>\n",
              "</table>\n",
              "</div>\n",
              "    <div class=\"colab-df-buttons\">\n",
              "\n",
              "  <div class=\"colab-df-container\">\n",
              "    <button class=\"colab-df-convert\" onclick=\"convertToInteractive('df-4d173177-f496-4473-aa5d-a4ebc36c5576')\"\n",
              "            title=\"Convert this dataframe to an interactive table.\"\n",
              "            style=\"display:none;\">\n",
              "\n",
              "  <svg xmlns=\"http://www.w3.org/2000/svg\" height=\"24px\" viewBox=\"0 -960 960 960\">\n",
              "    <path d=\"M120-120v-720h720v720H120Zm60-500h600v-160H180v160Zm220 220h160v-160H400v160Zm0 220h160v-160H400v160ZM180-400h160v-160H180v160Zm440 0h160v-160H620v160ZM180-180h160v-160H180v160Zm440 0h160v-160H620v160Z\"/>\n",
              "  </svg>\n",
              "    </button>\n",
              "\n",
              "  <style>\n",
              "    .colab-df-container {\n",
              "      display:flex;\n",
              "      gap: 12px;\n",
              "    }\n",
              "\n",
              "    .colab-df-convert {\n",
              "      background-color: #E8F0FE;\n",
              "      border: none;\n",
              "      border-radius: 50%;\n",
              "      cursor: pointer;\n",
              "      display: none;\n",
              "      fill: #1967D2;\n",
              "      height: 32px;\n",
              "      padding: 0 0 0 0;\n",
              "      width: 32px;\n",
              "    }\n",
              "\n",
              "    .colab-df-convert:hover {\n",
              "      background-color: #E2EBFA;\n",
              "      box-shadow: 0px 1px 2px rgba(60, 64, 67, 0.3), 0px 1px 3px 1px rgba(60, 64, 67, 0.15);\n",
              "      fill: #174EA6;\n",
              "    }\n",
              "\n",
              "    .colab-df-buttons div {\n",
              "      margin-bottom: 4px;\n",
              "    }\n",
              "\n",
              "    [theme=dark] .colab-df-convert {\n",
              "      background-color: #3B4455;\n",
              "      fill: #D2E3FC;\n",
              "    }\n",
              "\n",
              "    [theme=dark] .colab-df-convert:hover {\n",
              "      background-color: #434B5C;\n",
              "      box-shadow: 0px 1px 3px 1px rgba(0, 0, 0, 0.15);\n",
              "      filter: drop-shadow(0px 1px 2px rgba(0, 0, 0, 0.3));\n",
              "      fill: #FFFFFF;\n",
              "    }\n",
              "  </style>\n",
              "\n",
              "    <script>\n",
              "      const buttonEl =\n",
              "        document.querySelector('#df-4d173177-f496-4473-aa5d-a4ebc36c5576 button.colab-df-convert');\n",
              "      buttonEl.style.display =\n",
              "        google.colab.kernel.accessAllowed ? 'block' : 'none';\n",
              "\n",
              "      async function convertToInteractive(key) {\n",
              "        const element = document.querySelector('#df-4d173177-f496-4473-aa5d-a4ebc36c5576');\n",
              "        const dataTable =\n",
              "          await google.colab.kernel.invokeFunction('convertToInteractive',\n",
              "                                                    [key], {});\n",
              "        if (!dataTable) return;\n",
              "\n",
              "        const docLinkHtml = 'Like what you see? Visit the ' +\n",
              "          '<a target=\"_blank\" href=https://colab.research.google.com/notebooks/data_table.ipynb>data table notebook</a>'\n",
              "          + ' to learn more about interactive tables.';\n",
              "        element.innerHTML = '';\n",
              "        dataTable['output_type'] = 'display_data';\n",
              "        await google.colab.output.renderOutput(dataTable, element);\n",
              "        const docLink = document.createElement('div');\n",
              "        docLink.innerHTML = docLinkHtml;\n",
              "        element.appendChild(docLink);\n",
              "      }\n",
              "    </script>\n",
              "  </div>\n",
              "\n",
              "\n",
              "<div id=\"df-4e2beffc-c319-435f-863f-0e2a9296d7d5\">\n",
              "  <button class=\"colab-df-quickchart\" onclick=\"quickchart('df-4e2beffc-c319-435f-863f-0e2a9296d7d5')\"\n",
              "            title=\"Suggest charts\"\n",
              "            style=\"display:none;\">\n",
              "\n",
              "<svg xmlns=\"http://www.w3.org/2000/svg\" height=\"24px\"viewBox=\"0 0 24 24\"\n",
              "     width=\"24px\">\n",
              "    <g>\n",
              "        <path d=\"M19 3H5c-1.1 0-2 .9-2 2v14c0 1.1.9 2 2 2h14c1.1 0 2-.9 2-2V5c0-1.1-.9-2-2-2zM9 17H7v-7h2v7zm4 0h-2V7h2v10zm4 0h-2v-4h2v4z\"/>\n",
              "    </g>\n",
              "</svg>\n",
              "  </button>\n",
              "\n",
              "<style>\n",
              "  .colab-df-quickchart {\n",
              "      --bg-color: #E8F0FE;\n",
              "      --fill-color: #1967D2;\n",
              "      --hover-bg-color: #E2EBFA;\n",
              "      --hover-fill-color: #174EA6;\n",
              "      --disabled-fill-color: #AAA;\n",
              "      --disabled-bg-color: #DDD;\n",
              "  }\n",
              "\n",
              "  [theme=dark] .colab-df-quickchart {\n",
              "      --bg-color: #3B4455;\n",
              "      --fill-color: #D2E3FC;\n",
              "      --hover-bg-color: #434B5C;\n",
              "      --hover-fill-color: #FFFFFF;\n",
              "      --disabled-bg-color: #3B4455;\n",
              "      --disabled-fill-color: #666;\n",
              "  }\n",
              "\n",
              "  .colab-df-quickchart {\n",
              "    background-color: var(--bg-color);\n",
              "    border: none;\n",
              "    border-radius: 50%;\n",
              "    cursor: pointer;\n",
              "    display: none;\n",
              "    fill: var(--fill-color);\n",
              "    height: 32px;\n",
              "    padding: 0;\n",
              "    width: 32px;\n",
              "  }\n",
              "\n",
              "  .colab-df-quickchart:hover {\n",
              "    background-color: var(--hover-bg-color);\n",
              "    box-shadow: 0 1px 2px rgba(60, 64, 67, 0.3), 0 1px 3px 1px rgba(60, 64, 67, 0.15);\n",
              "    fill: var(--button-hover-fill-color);\n",
              "  }\n",
              "\n",
              "  .colab-df-quickchart-complete:disabled,\n",
              "  .colab-df-quickchart-complete:disabled:hover {\n",
              "    background-color: var(--disabled-bg-color);\n",
              "    fill: var(--disabled-fill-color);\n",
              "    box-shadow: none;\n",
              "  }\n",
              "\n",
              "  .colab-df-spinner {\n",
              "    border: 2px solid var(--fill-color);\n",
              "    border-color: transparent;\n",
              "    border-bottom-color: var(--fill-color);\n",
              "    animation:\n",
              "      spin 1s steps(1) infinite;\n",
              "  }\n",
              "\n",
              "  @keyframes spin {\n",
              "    0% {\n",
              "      border-color: transparent;\n",
              "      border-bottom-color: var(--fill-color);\n",
              "      border-left-color: var(--fill-color);\n",
              "    }\n",
              "    20% {\n",
              "      border-color: transparent;\n",
              "      border-left-color: var(--fill-color);\n",
              "      border-top-color: var(--fill-color);\n",
              "    }\n",
              "    30% {\n",
              "      border-color: transparent;\n",
              "      border-left-color: var(--fill-color);\n",
              "      border-top-color: var(--fill-color);\n",
              "      border-right-color: var(--fill-color);\n",
              "    }\n",
              "    40% {\n",
              "      border-color: transparent;\n",
              "      border-right-color: var(--fill-color);\n",
              "      border-top-color: var(--fill-color);\n",
              "    }\n",
              "    60% {\n",
              "      border-color: transparent;\n",
              "      border-right-color: var(--fill-color);\n",
              "    }\n",
              "    80% {\n",
              "      border-color: transparent;\n",
              "      border-right-color: var(--fill-color);\n",
              "      border-bottom-color: var(--fill-color);\n",
              "    }\n",
              "    90% {\n",
              "      border-color: transparent;\n",
              "      border-bottom-color: var(--fill-color);\n",
              "    }\n",
              "  }\n",
              "</style>\n",
              "\n",
              "  <script>\n",
              "    async function quickchart(key) {\n",
              "      const quickchartButtonEl =\n",
              "        document.querySelector('#' + key + ' button');\n",
              "      quickchartButtonEl.disabled = true;  // To prevent multiple clicks.\n",
              "      quickchartButtonEl.classList.add('colab-df-spinner');\n",
              "      try {\n",
              "        const charts = await google.colab.kernel.invokeFunction(\n",
              "            'suggestCharts', [key], {});\n",
              "      } catch (error) {\n",
              "        console.error('Error during call to suggestCharts:', error);\n",
              "      }\n",
              "      quickchartButtonEl.classList.remove('colab-df-spinner');\n",
              "      quickchartButtonEl.classList.add('colab-df-quickchart-complete');\n",
              "    }\n",
              "    (() => {\n",
              "      let quickchartButtonEl =\n",
              "        document.querySelector('#df-4e2beffc-c319-435f-863f-0e2a9296d7d5 button');\n",
              "      quickchartButtonEl.style.display =\n",
              "        google.colab.kernel.accessAllowed ? 'block' : 'none';\n",
              "    })();\n",
              "  </script>\n",
              "</div>\n",
              "\n",
              "  <div id=\"id_45240603-477f-4b8d-b428-0bd818f3d4d7\">\n",
              "    <style>\n",
              "      .colab-df-generate {\n",
              "        background-color: #E8F0FE;\n",
              "        border: none;\n",
              "        border-radius: 50%;\n",
              "        cursor: pointer;\n",
              "        display: none;\n",
              "        fill: #1967D2;\n",
              "        height: 32px;\n",
              "        padding: 0 0 0 0;\n",
              "        width: 32px;\n",
              "      }\n",
              "\n",
              "      .colab-df-generate:hover {\n",
              "        background-color: #E2EBFA;\n",
              "        box-shadow: 0px 1px 2px rgba(60, 64, 67, 0.3), 0px 1px 3px 1px rgba(60, 64, 67, 0.15);\n",
              "        fill: #174EA6;\n",
              "      }\n",
              "\n",
              "      [theme=dark] .colab-df-generate {\n",
              "        background-color: #3B4455;\n",
              "        fill: #D2E3FC;\n",
              "      }\n",
              "\n",
              "      [theme=dark] .colab-df-generate:hover {\n",
              "        background-color: #434B5C;\n",
              "        box-shadow: 0px 1px 3px 1px rgba(0, 0, 0, 0.15);\n",
              "        filter: drop-shadow(0px 1px 2px rgba(0, 0, 0, 0.3));\n",
              "        fill: #FFFFFF;\n",
              "      }\n",
              "    </style>\n",
              "    <button class=\"colab-df-generate\" onclick=\"generateWithVariable('frequence_militar_gender')\"\n",
              "            title=\"Generate code using this dataframe.\"\n",
              "            style=\"display:none;\">\n",
              "\n",
              "  <svg xmlns=\"http://www.w3.org/2000/svg\" height=\"24px\"viewBox=\"0 0 24 24\"\n",
              "       width=\"24px\">\n",
              "    <path d=\"M7,19H8.4L18.45,9,17,7.55,7,17.6ZM5,21V16.75L18.45,3.32a2,2,0,0,1,2.83,0l1.4,1.43a1.91,1.91,0,0,1,.58,1.4,1.91,1.91,0,0,1-.58,1.4L9.25,21ZM18.45,9,17,7.55Zm-12,3A5.31,5.31,0,0,0,4.9,8.1,5.31,5.31,0,0,0,1,6.5,5.31,5.31,0,0,0,4.9,4.9,5.31,5.31,0,0,0,6.5,1,5.31,5.31,0,0,0,8.1,4.9,5.31,5.31,0,0,0,12,6.5,5.46,5.46,0,0,0,6.5,12Z\"/>\n",
              "  </svg>\n",
              "    </button>\n",
              "    <script>\n",
              "      (() => {\n",
              "      const buttonEl =\n",
              "        document.querySelector('#id_45240603-477f-4b8d-b428-0bd818f3d4d7 button.colab-df-generate');\n",
              "      buttonEl.style.display =\n",
              "        google.colab.kernel.accessAllowed ? 'block' : 'none';\n",
              "\n",
              "      buttonEl.onclick = () => {\n",
              "        google.colab.notebook.generateWithVariable('frequence_militar_gender');\n",
              "      }\n",
              "      })();\n",
              "    </script>\n",
              "  </div>\n",
              "\n",
              "    </div>\n",
              "  </div>\n"
            ],
            "application/vnd.google.colaboratory.intrinsic+json": {
              "type": "dataframe",
              "variable_name": "frequence_militar_gender",
              "summary": "{\n  \"name\": \"frequence_militar_gender\",\n  \"rows\": 5,\n  \"fields\": [\n    {\n      \"column\": \"Occupation\",\n      \"properties\": {\n        \"dtype\": \"string\",\n        \"num_unique_values\": 5,\n        \"samples\": [\n          \"French resistance fighter\",\n          \"Resistance fighter\",\n          \"Military personnel\"\n        ],\n        \"semantic_type\": \"\",\n        \"description\": \"\"\n      }\n    },\n    {\n      \"column\": \"Female\",\n      \"properties\": {\n        \"dtype\": \"number\",\n        \"std\": 28,\n        \"min\": 0,\n        \"max\": 65,\n        \"num_unique_values\": 4,\n        \"samples\": [\n          1,\n          5,\n          0\n        ],\n        \"semantic_type\": \"\",\n        \"description\": \"\"\n      }\n    },\n    {\n      \"column\": \"Male\",\n      \"properties\": {\n        \"dtype\": \"number\",\n        \"std\": 910,\n        \"min\": 0,\n        \"max\": 2044,\n        \"num_unique_values\": 5,\n        \"samples\": [\n          0,\n          8,\n          2044\n        ],\n        \"semantic_type\": \"\",\n        \"description\": \"\"\n      }\n    },\n    {\n      \"column\": \"Transgender Male\",\n      \"properties\": {\n        \"dtype\": \"number\",\n        \"std\": 0,\n        \"min\": 0,\n        \"max\": 1,\n        \"num_unique_values\": 2,\n        \"samples\": [\n          1,\n          0\n        ],\n        \"semantic_type\": \"\",\n        \"description\": \"\"\n      }\n    }\n  ]\n}"
            }
          },
          "metadata": {},
          "execution_count": 7
        }
      ]
    },
    {
      "cell_type": "markdown",
      "source": [
        "##2. Análise Estatística Descritiva"
      ],
      "metadata": {
        "id": "xXvPXI-UievS"
      }
    },
    {
      "cell_type": "markdown",
      "source": [
        "###2.1 Distribuição dos dados:\n",
        "\n",
        "*   Histogramas\n",
        "*   Boxplots\n",
        "\n",
        "\n",
        "\n",
        "\n",
        "\n",
        "\n"
      ],
      "metadata": {
        "id": "KaWUvIrOixRR"
      }
    },
    {
      "cell_type": "markdown",
      "source": [
        "#### Histograma Gênero Feminino:"
      ],
      "metadata": {
        "id": "n-c_MaxSjATX"
      }
    },
    {
      "cell_type": "code",
      "source": [
        "# Filtrando os dados do gênero feminino\n",
        "feminino_militares = militar[militar['Gender'] == 'Female']\n",
        "\n",
        "# Criar o histograma\n",
        "plt.figure(figsize=(10, 5))\n",
        "sns.histplot(data=feminino_militares, x='Age of death', log_scale=False, bins=7, color='#8FBC8F')\n",
        "plt.xlabel('Idade', fontsize=15)\n",
        "plt.ylabel('Frequência', fontsize=15)\n",
        "plt.title('Distribuição da Idade de Morte (Gênero Feminino)', fontsize=15)\n",
        "plt.show()\n"
      ],
      "metadata": {
        "colab": {
          "base_uri": "https://localhost:8080/",
          "height": 497
        },
        "id": "5-d7B2hUjoM9",
        "outputId": "bd817ebb-1750-420b-ea62-e7a16c106276"
      },
      "execution_count": null,
      "outputs": [
        {
          "output_type": "display_data",
          "data": {
            "text/plain": [
              "<Figure size 1000x500 with 1 Axes>"
            ],
            "image/png": "[encoded data removed]"
          },
          "metadata": {}
        }
      ]
    },
    {
      "cell_type": "markdown",
      "source": [
        "####Histograma Gênero Masculino:"
      ],
      "metadata": {
        "id": "LPakt6lCkQSz"
      }
    },
    {
      "cell_type": "code",
      "source": [
        "# Filtrando os dados do gênero masculino\n",
        "masculino_militares = militar[militar['Gender'] == 'Male']\n",
        "\n",
        "# Criar o histograma\n",
        "plt.figure(figsize=(10, 5))\n",
        "sns.histplot(data=masculino_militares, x='Age of death', log_scale=False, bins=7, color='#98FB98')\n",
        "plt.xlabel('Idade', fontsize=15)\n",
        "plt.ylabel('Frequência', fontsize=15)\n",
        "plt.title('Distribuição da Idade de Morte (Gênero Masculino)', fontsize=15)\n",
        "plt.show()\n"
      ],
      "metadata": {
        "colab": {
          "base_uri": "https://localhost:8080/",
          "height": 496
        },
        "id": "zkvoihTXkWrd",
        "outputId": "5d24fda2-cc7a-41da-8a6e-17d6b2562b9e"
      },
      "execution_count": null,
      "outputs": [
        {
          "output_type": "display_data",
          "data": {
            "text/plain": [
              "<Figure size 1000x500 with 1 Axes>"
            ],
            "image/png": "[encoded data removed]"
          },
          "metadata": {}
        }
      ]
    },
    {
      "cell_type": "markdown",
      "source": [
        "#### Boxplots Gênero Feminino"
      ],
      "metadata": {
        "id": "rcvhfWaMrBTM"
      }
    },
    {
      "cell_type": "code",
      "source": [
        "# Criar o boxplot\n",
        "plt.figure(figsize=(12, 8))\n",
        "sns.boxplot(data=feminino_militares, y='Age of death', color='#8FBC8F')\n",
        "plt.title('Idade de Morte - Mulheres (Cargos Militares)', fontsize=16)\n",
        "plt.ylabel('Idade de Morte', fontsize=14)\n",
        "plt.xlabel('Mulheres', fontsize=14)\n",
        "\n",
        "#Exibir gráfico\n",
        "#plt.tight_layout()\n",
        "plt.show()"
      ],
      "metadata": {
        "colab": {
          "base_uri": "https://localhost:8080/",
          "height": 606
        },
        "id": "ivkLJpyurEGU",
        "outputId": "93aa930e-7038-4fdf-a4e3-c11f268e8fdc"
      },
      "execution_count": null,
      "outputs": [
        {
          "output_type": "display_data",
          "data": {
            "text/plain": [
              "<Figure size 1200x800 with 1 Axes>"
            ],
            "image/png": "[encoded data removed]"
          },
          "metadata": {}
        }
      ]
    },
    {
      "cell_type": "markdown",
      "source": [
        "#### Boxplots Gênero Masculino - Com média, moda e mediana"
      ],
      "metadata": {
        "id": "veWhin0ZEVjm"
      }
    },
    {
      "cell_type": "code",
      "source": [
        "# Criar o boxplot\n",
        "plt.figure(figsize=(12, 8))\n",
        "sns.boxplot(data=feminino_militares, y='Age of death', color='#8FBC8F')\n",
        "plt.title('Idade de Morte - Mulheres (Cargos Militares)', fontsize=16)\n",
        "plt.ylabel('Idade de Morte', fontsize=14)\n",
        "plt.xlabel('Mulheres', fontsize=14)\n",
        "\n",
        "media_feminino = feminino_militares['Age of death'].mean()\n",
        "moda_feminino = feminino_militares['Age of death'].mode()[0]\n",
        "mediana_feminino = feminino_militares['Age of death'].median()\n",
        "\n",
        "plt.axhline(media_feminino, color='red', linestyle='--', label=f'Média: {media_feminino:.2f}')\n",
        "plt.axhline(moda_feminino, color='green', linestyle='--', label=f'Moda: {moda_feminino}')\n",
        "plt.axhline(mediana_feminino, color='blue', linestyle='--', label=f'Mediana: {mediana_feminino}')\n",
        "\n",
        "#Exibir gráfico\n",
        "#plt.tight_layout()\n",
        "plt.show()"
      ],
      "metadata": {
        "colab": {
          "base_uri": "https://localhost:8080/",
          "height": 606
        },
        "id": "dQpWjv3XEXOG",
        "outputId": "f5f38287-d553-4e5f-c397-eed6daa7b217"
      },
      "execution_count": null,
      "outputs": [
        {
          "output_type": "display_data",
          "data": {
            "text/plain": [
              "<Figure size 1200x800 with 1 Axes>"
            ],
            "image/png": "[encoded data removed]"
          },
          "metadata": {}
        }
      ]
    },
    {
      "cell_type": "markdown",
      "source": [
        "#### Boxplots Gênero Masculino\n"
      ],
      "metadata": {
        "id": "QQDOZRGxlLuR"
      }
    },
    {
      "cell_type": "code",
      "source": [
        "# Criar o boxplot\n",
        "plt.figure(figsize=(12, 8))\n",
        "sns.boxplot(data=masculino_militares, y='Age of death', color='#98FB98')\n",
        "plt.title('Idade de Morte - Homens (Cargos Militares)', fontsize=16)\n",
        "plt.ylabel('Idade de Morte', fontsize=14)\n",
        "plt.xlabel('Homens', fontsize=14)\n",
        "\n",
        "# Exibir o gráfico\n",
        "#plt.tight_layout()\n",
        "plt.show()"
      ],
      "metadata": {
        "colab": {
          "base_uri": "https://localhost:8080/",
          "height": 606
        },
        "id": "tnzjJMm3od6_",
        "outputId": "15479037-89a6-4538-ee3e-b5c9ad460910"
      },
      "execution_count": null,
      "outputs": [
        {
          "output_type": "display_data",
          "data": {
            "text/plain": [
              "<Figure size 1200x800 with 1 Axes>"
            ],
            "image/png": "[encoded data removed]"
          },
          "metadata": {}
        }
      ]
    },
    {
      "cell_type": "markdown",
      "source": [
        "#### Boxplots Gênero Masculino - Com média, moda e mediana\n"
      ],
      "metadata": {
        "id": "oXcVdYrwD-Fw"
      }
    },
    {
      "cell_type": "code",
      "source": [
        "# Criar o boxplot\n",
        "plt.figure(figsize=(12, 8))\n",
        "sns.boxplot(data=masculino_militares, y='Age of death', color='#98FB98')\n",
        "plt.title('Idade de Morte - Homens (Cargos Militares)', fontsize=16)\n",
        "plt.ylabel('Idade de Morte', fontsize=14)\n",
        "plt.xlabel('Homens', fontsize=14)\n",
        "\n",
        "media_masculino = masculino_militares['Age of death'].mean()\n",
        "moda_masculino = masculino_militares['Age of death'].mode()[0]\n",
        "mediana_masculino = masculino_militares['Age of death'].median()\n",
        "\n",
        "plt.axhline(media_masculino, color='red', linestyle='--', label=f'Média: {media_masculino:.2f}')\n",
        "plt.axhline(moda_masculino, color='green', linestyle='--', label=f'Moda: {moda_masculino}')\n",
        "plt.axhline(mediana_masculino, color='blue', linestyle='--', label=f'Mediana: {mediana_masculino}')\n",
        "\n",
        "\n",
        "# Exibir o gráfico\n",
        "#plt.tight_layout()\n",
        "plt.show()"
      ],
      "metadata": {
        "colab": {
          "base_uri": "https://localhost:8080/",
          "height": 606
        },
        "id": "QdrGfbfwBn2x",
        "outputId": "06628286-7a4a-491c-b7f0-69cd828a3e1a"
      },
      "execution_count": null,
      "outputs": [
        {
          "output_type": "display_data",
          "data": {
            "text/plain": [
              "<Figure size 1200x800 with 1 Axes>"
            ],
            "image/png": "[encoded data removed]"
          },
          "metadata": {}
        }
      ]
    },
    {
      "cell_type": "markdown",
      "source": [
        "###2.2 Medidas de Centralidade\n",
        "\n",
        "\n",
        "*   Média\n",
        "*   Moda\n",
        "*   Mediana\n",
        "\n",
        "\n",
        "\n",
        "\n"
      ],
      "metadata": {
        "id": "fRK9m83ev5Mg"
      }
    },
    {
      "cell_type": "markdown",
      "source": [
        "Média da Idade de Mortes (Feminino):"
      ],
      "metadata": {
        "id": "JCVwzMm_wfrK"
      }
    },
    {
      "cell_type": "code",
      "source": [
        "media_feminino = feminino_militares['Age of death'].mean()\n",
        "print(f\"A média é: {media_feminino}\")"
      ],
      "metadata": {
        "colab": {
          "base_uri": "https://localhost:8080/"
        },
        "id": "8YABjhZLxA_h",
        "outputId": "4485e12c-7034-48bf-80b0-8fd9903df3e4"
      },
      "execution_count": null,
      "outputs": [
        {
          "output_type": "stream",
          "name": "stdout",
          "text": [
            "A média é: 40.95774647887324\n"
          ]
        }
      ]
    },
    {
      "cell_type": "markdown",
      "source": [
        "Média da Idade de Mortes (Masculino):"
      ],
      "metadata": {
        "id": "-pMe7JpFyb3C"
      }
    },
    {
      "cell_type": "code",
      "source": [
        "media_masculino = masculino_militares['Age of death'].mean()\n",
        "print(f\"A média é: {media_masculino}\")"
      ],
      "metadata": {
        "colab": {
          "base_uri": "https://localhost:8080/"
        },
        "id": "AvbknTakyhzF",
        "outputId": "b65751d3-12f7-4bd7-8074-db6ed288886b"
      },
      "execution_count": null,
      "outputs": [
        {
          "output_type": "stream",
          "name": "stdout",
          "text": [
            "A média é: 52.358417752050165\n"
          ]
        }
      ]
    },
    {
      "cell_type": "markdown",
      "source": [
        "Moda da Idade de Mortes (Feminino):"
      ],
      "metadata": {
        "id": "wZfxcHLCy6t_"
      }
    },
    {
      "cell_type": "code",
      "source": [
        "moda_feminino = stats.mode(feminino_militares['Age of death'])\n",
        "print(f\"A moda é: {moda_feminino}\")"
      ],
      "metadata": {
        "colab": {
          "base_uri": "https://localhost:8080/"
        },
        "id": "IjJEGNqBy5YN",
        "outputId": "1f53c952-8dc8-48e5-8fe8-41449847dbb0"
      },
      "execution_count": null,
      "outputs": [
        {
          "output_type": "stream",
          "name": "stdout",
          "text": [
            "A moda é: ModeResult(mode=19.0, count=5)\n"
          ]
        }
      ]
    },
    {
      "cell_type": "markdown",
      "source": [
        "Moda da Idade de Mortes (Masculino):"
      ],
      "metadata": {
        "id": "bf-VbDoOzL5B"
      }
    },
    {
      "cell_type": "code",
      "source": [
        "moda_masculino = stats.mode(masculino_militares['Age of death'])\n",
        "print(f\"A moda é: {moda_masculino}\")"
      ],
      "metadata": {
        "colab": {
          "base_uri": "https://localhost:8080/"
        },
        "id": "SFcoWKXvzOf6",
        "outputId": "615e562e-1bff-4ca1-9eb8-2793d6e4b79c"
      },
      "execution_count": null,
      "outputs": [
        {
          "output_type": "stream",
          "name": "stdout",
          "text": [
            "A moda é: ModeResult(mode=46.0, count=46)\n"
          ]
        }
      ]
    },
    {
      "cell_type": "markdown",
      "source": [
        "Mediana da Idade de Mortes (Feminino):"
      ],
      "metadata": {
        "id": "z7KDxtnlzr33"
      }
    },
    {
      "cell_type": "code",
      "source": [
        "mediana_feminino = feminino_militares['Age of death'].median()\n",
        "print(f\"A mediana é: {mediana_feminino}\")"
      ],
      "metadata": {
        "colab": {
          "base_uri": "https://localhost:8080/"
        },
        "id": "ARVInxZLzsbn",
        "outputId": "55fb77ba-69c5-4fd2-829c-9615764475ab"
      },
      "execution_count": null,
      "outputs": [
        {
          "output_type": "stream",
          "name": "stdout",
          "text": [
            "A mediana é: 37.0\n"
          ]
        }
      ]
    },
    {
      "cell_type": "markdown",
      "source": [
        "Mediana da Idade de Mortes (Masculino):"
      ],
      "metadata": {
        "id": "kT6JKE-zz8VJ"
      }
    },
    {
      "cell_type": "code",
      "source": [
        "mediana_masculino = masculino_militares['Age of death'].median()\n",
        "print(f\"A mediana é: {mediana_masculino}\")"
      ],
      "metadata": {
        "colab": {
          "base_uri": "https://localhost:8080/"
        },
        "id": "kElMWaFMz_z8",
        "outputId": "992f444f-57ad-41ee-b02e-da214673e72e"
      },
      "execution_count": null,
      "outputs": [
        {
          "output_type": "stream",
          "name": "stdout",
          "text": [
            "A mediana é: 52.0\n"
          ]
        }
      ]
    },
    {
      "cell_type": "markdown",
      "source": [
        "###2.3 Medidas de Variação\n",
        "\n",
        "\n",
        "*   Desvio padrão\n",
        "*   Amplitude interquartil\n",
        "\n"
      ],
      "metadata": {
        "id": "8SNRBYHB1HnW"
      }
    },
    {
      "cell_type": "code",
      "source": [
        "militar['Age of death'].describe()"
      ],
      "metadata": {
        "colab": {
          "base_uri": "https://localhost:8080/",
          "height": 335
        },
        "id": "VHo-gq-vSdRH",
        "outputId": "1eda0f01-d6f6-4b38-ce12-0b23102d6e85"
      },
      "execution_count": null,
      "outputs": [
        {
          "output_type": "execute_result",
          "data": {
            "text/plain": [
              "count    2145.000000\n",
              "mean       51.989277\n",
              "std        18.996499\n",
              "min        13.000000\n",
              "25%        36.000000\n",
              "50%        51.000000\n",
              "75%        65.000000\n",
              "max        99.000000\n",
              "Name: Age of death, dtype: float64"
            ],
            "text/html": [
              "<div>\n",
              "<style scoped>\n",
              "    .dataframe tbody tr th:only-of-type {\n",
              "        vertical-align: middle;\n",
              "    }\n",
              "\n",
              "    .dataframe tbody tr th {\n",
              "        vertical-align: top;\n",
              "    }\n",
              "\n",
              "    .dataframe thead th {\n",
              "        text-align: right;\n",
              "    }\n",
              "</style>\n",
              "<table border=\"1\" class=\"dataframe\">\n",
              "  <thead>\n",
              "    <tr style=\"text-align: right;\">\n",
              "      <th></th>\n",
              "      <th>Age of death</th>\n",
              "    </tr>\n",
              "  </thead>\n",
              "  <tbody>\n",
              "    <tr>\n",
              "      <th>count</th>\n",
              "      <td>2145.000000</td>\n",
              "    </tr>\n",
              "    <tr>\n",
              "      <th>mean</th>\n",
              "      <td>51.989277</td>\n",
              "    </tr>\n",
              "    <tr>\n",
              "      <th>std</th>\n",
              "      <td>18.996499</td>\n",
              "    </tr>\n",
              "    <tr>\n",
              "      <th>min</th>\n",
              "      <td>13.000000</td>\n",
              "    </tr>\n",
              "    <tr>\n",
              "      <th>25%</th>\n",
              "      <td>36.000000</td>\n",
              "    </tr>\n",
              "    <tr>\n",
              "      <th>50%</th>\n",
              "      <td>51.000000</td>\n",
              "    </tr>\n",
              "    <tr>\n",
              "      <th>75%</th>\n",
              "      <td>65.000000</td>\n",
              "    </tr>\n",
              "    <tr>\n",
              "      <th>max</th>\n",
              "      <td>99.000000</td>\n",
              "    </tr>\n",
              "  </tbody>\n",
              "</table>\n",
              "</div><br><label><b>dtype:</b> float64</label>"
            ]
          },
          "metadata": {},
          "execution_count": 63
        }
      ]
    },
    {
      "cell_type": "markdown",
      "source": [
        "Amplitude interquadril:\n",
        "\n",
        "IQR = Q3 - Q1\n",
        "\n",
        "IQR = 65 - 36\n",
        "\n",
        "IQR = 29"
      ],
      "metadata": {
        "id": "1ftyWKAD59vu"
      }
    },
    {
      "cell_type": "markdown",
      "source": [
        "##4. Formulação de Hipótese"
      ],
      "metadata": {
        "id": "VcZoeuUU2H32"
      }
    },
    {
      "cell_type": "markdown",
      "source": [
        "###**Hipótese exploratória:** Homens que pertencem a cargos militares tendem a morrer mais novos que mulheres desses cargos.\n",
        "\n",
        "###**Hipótese usando tabelas**: Criação de tabelas para comparação dos dados e apoio na hipótese exploratória."
      ],
      "metadata": {
        "id": "zUi4NWpS2jN6"
      }
    },
    {
      "cell_type": "markdown",
      "source": [
        "##4. Conclusão\n",
        "\n",
        "\n",
        "\n",
        "\n"
      ],
      "metadata": {
        "id": "ZfxNWMiz1pYA"
      }
    },
    {
      "cell_type": "code",
      "source": [],
      "metadata": {
        "id": "yheInNan2HND"
      },
      "execution_count": null,
      "outputs": []
    }
  ]
}